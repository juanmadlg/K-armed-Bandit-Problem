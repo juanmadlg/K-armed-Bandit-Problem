{
  "nbformat": 4,
  "nbformat_minor": 0,
  "metadata": {
    "colab": {
      "name": "K-Armed Testbed with Upper-Confidence Bound (UCB) Action Selection",
      "provenance": [],
      "authorship_tag": "ABX9TyOk9MIMEgx85KjJKg5MuJod",
      "include_colab_link": true
    },
    "kernelspec": {
      "name": "python3",
      "display_name": "Python 3"
    },
    "widgets": {
      "application/vnd.jupyter.widget-state+json": {
        "32b4b4fa6c014ae28ff1d72a7e47031e": {
          "model_module": "@jupyter-widgets/controls",
          "model_name": "HBoxModel",
          "state": {
            "_view_name": "HBoxView",
            "_dom_classes": [],
            "_model_name": "HBoxModel",
            "_view_module": "@jupyter-widgets/controls",
            "_model_module_version": "1.5.0",
            "_view_count": null,
            "_view_module_version": "1.5.0",
            "box_style": "",
            "layout": "IPY_MODEL_0f0364fc4c8c4eb3adf9a3ba56084524",
            "_model_module": "@jupyter-widgets/controls",
            "children": [
              "IPY_MODEL_06124ce19437407fa6e14f723e1252af",
              "IPY_MODEL_8eb7a19b2e40498cbdf8db6f2e12d682"
            ]
          }
        },
        "0f0364fc4c8c4eb3adf9a3ba56084524": {
          "model_module": "@jupyter-widgets/base",
          "model_name": "LayoutModel",
          "state": {
            "_view_name": "LayoutView",
            "grid_template_rows": null,
            "right": null,
            "justify_content": null,
            "_view_module": "@jupyter-widgets/base",
            "overflow": null,
            "_model_module_version": "1.2.0",
            "_view_count": null,
            "flex_flow": null,
            "width": null,
            "min_width": null,
            "border": null,
            "align_items": null,
            "bottom": null,
            "_model_module": "@jupyter-widgets/base",
            "top": null,
            "grid_column": null,
            "overflow_y": null,
            "overflow_x": null,
            "grid_auto_flow": null,
            "grid_area": null,
            "grid_template_columns": null,
            "flex": null,
            "_model_name": "LayoutModel",
            "justify_items": null,
            "grid_row": null,
            "max_height": null,
            "align_content": null,
            "visibility": null,
            "align_self": null,
            "height": null,
            "min_height": null,
            "padding": null,
            "grid_auto_rows": null,
            "grid_gap": null,
            "max_width": null,
            "order": null,
            "_view_module_version": "1.2.0",
            "grid_template_areas": null,
            "object_position": null,
            "object_fit": null,
            "grid_auto_columns": null,
            "margin": null,
            "display": null,
            "left": null
          }
        },
        "06124ce19437407fa6e14f723e1252af": {
          "model_module": "@jupyter-widgets/controls",
          "model_name": "FloatProgressModel",
          "state": {
            "_view_name": "ProgressView",
            "style": "IPY_MODEL_a099088795bc4aa4b805206942e3f45c",
            "_dom_classes": [],
            "description": "100%",
            "_model_name": "FloatProgressModel",
            "bar_style": "success",
            "max": 2000,
            "_view_module": "@jupyter-widgets/controls",
            "_model_module_version": "1.5.0",
            "value": 2000,
            "_view_count": null,
            "_view_module_version": "1.5.0",
            "orientation": "horizontal",
            "min": 0,
            "description_tooltip": null,
            "_model_module": "@jupyter-widgets/controls",
            "layout": "IPY_MODEL_7a73bfc62b544fd6be69b7cdfcc9f109"
          }
        },
        "8eb7a19b2e40498cbdf8db6f2e12d682": {
          "model_module": "@jupyter-widgets/controls",
          "model_name": "HTMLModel",
          "state": {
            "_view_name": "HTMLView",
            "style": "IPY_MODEL_098a9c3ecdcb4521884d309f8ec63143",
            "_dom_classes": [],
            "description": "",
            "_model_name": "HTMLModel",
            "placeholder": "​",
            "_view_module": "@jupyter-widgets/controls",
            "_model_module_version": "1.5.0",
            "value": " 2000/2000 [08:19&lt;00:00,  4.01it/s]",
            "_view_count": null,
            "_view_module_version": "1.5.0",
            "description_tooltip": null,
            "_model_module": "@jupyter-widgets/controls",
            "layout": "IPY_MODEL_386a4a7f3a1e415eaf9b21ec1a2d696e"
          }
        },
        "a099088795bc4aa4b805206942e3f45c": {
          "model_module": "@jupyter-widgets/controls",
          "model_name": "ProgressStyleModel",
          "state": {
            "_view_name": "StyleView",
            "_model_name": "ProgressStyleModel",
            "description_width": "initial",
            "_view_module": "@jupyter-widgets/base",
            "_model_module_version": "1.5.0",
            "_view_count": null,
            "_view_module_version": "1.2.0",
            "bar_color": null,
            "_model_module": "@jupyter-widgets/controls"
          }
        },
        "7a73bfc62b544fd6be69b7cdfcc9f109": {
          "model_module": "@jupyter-widgets/base",
          "model_name": "LayoutModel",
          "state": {
            "_view_name": "LayoutView",
            "grid_template_rows": null,
            "right": null,
            "justify_content": null,
            "_view_module": "@jupyter-widgets/base",
            "overflow": null,
            "_model_module_version": "1.2.0",
            "_view_count": null,
            "flex_flow": null,
            "width": null,
            "min_width": null,
            "border": null,
            "align_items": null,
            "bottom": null,
            "_model_module": "@jupyter-widgets/base",
            "top": null,
            "grid_column": null,
            "overflow_y": null,
            "overflow_x": null,
            "grid_auto_flow": null,
            "grid_area": null,
            "grid_template_columns": null,
            "flex": null,
            "_model_name": "LayoutModel",
            "justify_items": null,
            "grid_row": null,
            "max_height": null,
            "align_content": null,
            "visibility": null,
            "align_self": null,
            "height": null,
            "min_height": null,
            "padding": null,
            "grid_auto_rows": null,
            "grid_gap": null,
            "max_width": null,
            "order": null,
            "_view_module_version": "1.2.0",
            "grid_template_areas": null,
            "object_position": null,
            "object_fit": null,
            "grid_auto_columns": null,
            "margin": null,
            "display": null,
            "left": null
          }
        },
        "098a9c3ecdcb4521884d309f8ec63143": {
          "model_module": "@jupyter-widgets/controls",
          "model_name": "DescriptionStyleModel",
          "state": {
            "_view_name": "StyleView",
            "_model_name": "DescriptionStyleModel",
            "description_width": "",
            "_view_module": "@jupyter-widgets/base",
            "_model_module_version": "1.5.0",
            "_view_count": null,
            "_view_module_version": "1.2.0",
            "_model_module": "@jupyter-widgets/controls"
          }
        },
        "386a4a7f3a1e415eaf9b21ec1a2d696e": {
          "model_module": "@jupyter-widgets/base",
          "model_name": "LayoutModel",
          "state": {
            "_view_name": "LayoutView",
            "grid_template_rows": null,
            "right": null,
            "justify_content": null,
            "_view_module": "@jupyter-widgets/base",
            "overflow": null,
            "_model_module_version": "1.2.0",
            "_view_count": null,
            "flex_flow": null,
            "width": null,
            "min_width": null,
            "border": null,
            "align_items": null,
            "bottom": null,
            "_model_module": "@jupyter-widgets/base",
            "top": null,
            "grid_column": null,
            "overflow_y": null,
            "overflow_x": null,
            "grid_auto_flow": null,
            "grid_area": null,
            "grid_template_columns": null,
            "flex": null,
            "_model_name": "LayoutModel",
            "justify_items": null,
            "grid_row": null,
            "max_height": null,
            "align_content": null,
            "visibility": null,
            "align_self": null,
            "height": null,
            "min_height": null,
            "padding": null,
            "grid_auto_rows": null,
            "grid_gap": null,
            "max_width": null,
            "order": null,
            "_view_module_version": "1.2.0",
            "grid_template_areas": null,
            "object_position": null,
            "object_fit": null,
            "grid_auto_columns": null,
            "margin": null,
            "display": null,
            "left": null
          }
        },
        "c8ec0e972da046deb410c8e86a4734ec": {
          "model_module": "@jupyter-widgets/controls",
          "model_name": "HBoxModel",
          "state": {
            "_view_name": "HBoxView",
            "_dom_classes": [],
            "_model_name": "HBoxModel",
            "_view_module": "@jupyter-widgets/controls",
            "_model_module_version": "1.5.0",
            "_view_count": null,
            "_view_module_version": "1.5.0",
            "box_style": "",
            "layout": "IPY_MODEL_511a174bba1242b096bb52c136ea9f0c",
            "_model_module": "@jupyter-widgets/controls",
            "children": [
              "IPY_MODEL_eebe1df29cba42c0a53eb0ed2916e78d",
              "IPY_MODEL_7834d6d7e80a47e79a06e4abedd19347"
            ]
          }
        },
        "511a174bba1242b096bb52c136ea9f0c": {
          "model_module": "@jupyter-widgets/base",
          "model_name": "LayoutModel",
          "state": {
            "_view_name": "LayoutView",
            "grid_template_rows": null,
            "right": null,
            "justify_content": null,
            "_view_module": "@jupyter-widgets/base",
            "overflow": null,
            "_model_module_version": "1.2.0",
            "_view_count": null,
            "flex_flow": null,
            "width": null,
            "min_width": null,
            "border": null,
            "align_items": null,
            "bottom": null,
            "_model_module": "@jupyter-widgets/base",
            "top": null,
            "grid_column": null,
            "overflow_y": null,
            "overflow_x": null,
            "grid_auto_flow": null,
            "grid_area": null,
            "grid_template_columns": null,
            "flex": null,
            "_model_name": "LayoutModel",
            "justify_items": null,
            "grid_row": null,
            "max_height": null,
            "align_content": null,
            "visibility": null,
            "align_self": null,
            "height": null,
            "min_height": null,
            "padding": null,
            "grid_auto_rows": null,
            "grid_gap": null,
            "max_width": null,
            "order": null,
            "_view_module_version": "1.2.0",
            "grid_template_areas": null,
            "object_position": null,
            "object_fit": null,
            "grid_auto_columns": null,
            "margin": null,
            "display": null,
            "left": null
          }
        },
        "eebe1df29cba42c0a53eb0ed2916e78d": {
          "model_module": "@jupyter-widgets/controls",
          "model_name": "FloatProgressModel",
          "state": {
            "_view_name": "ProgressView",
            "style": "IPY_MODEL_bf4125b76eb74f19b14168291631a8f7",
            "_dom_classes": [],
            "description": "100%",
            "_model_name": "FloatProgressModel",
            "bar_style": "success",
            "max": 2000,
            "_view_module": "@jupyter-widgets/controls",
            "_model_module_version": "1.5.0",
            "value": 2000,
            "_view_count": null,
            "_view_module_version": "1.5.0",
            "orientation": "horizontal",
            "min": 0,
            "description_tooltip": null,
            "_model_module": "@jupyter-widgets/controls",
            "layout": "IPY_MODEL_a1a161a551984ac19de0400d9cda8202"
          }
        },
        "7834d6d7e80a47e79a06e4abedd19347": {
          "model_module": "@jupyter-widgets/controls",
          "model_name": "HTMLModel",
          "state": {
            "_view_name": "HTMLView",
            "style": "IPY_MODEL_6bd8dbd5763f40a7a78bf0812697d0a2",
            "_dom_classes": [],
            "description": "",
            "_model_name": "HTMLModel",
            "placeholder": "​",
            "_view_module": "@jupyter-widgets/controls",
            "_model_module_version": "1.5.0",
            "value": " 2000/2000 [04:14&lt;00:00,  7.86it/s]",
            "_view_count": null,
            "_view_module_version": "1.5.0",
            "description_tooltip": null,
            "_model_module": "@jupyter-widgets/controls",
            "layout": "IPY_MODEL_197afaee90374f6a96330957eeaaa94b"
          }
        },
        "bf4125b76eb74f19b14168291631a8f7": {
          "model_module": "@jupyter-widgets/controls",
          "model_name": "ProgressStyleModel",
          "state": {
            "_view_name": "StyleView",
            "_model_name": "ProgressStyleModel",
            "description_width": "initial",
            "_view_module": "@jupyter-widgets/base",
            "_model_module_version": "1.5.0",
            "_view_count": null,
            "_view_module_version": "1.2.0",
            "bar_color": null,
            "_model_module": "@jupyter-widgets/controls"
          }
        },
        "a1a161a551984ac19de0400d9cda8202": {
          "model_module": "@jupyter-widgets/base",
          "model_name": "LayoutModel",
          "state": {
            "_view_name": "LayoutView",
            "grid_template_rows": null,
            "right": null,
            "justify_content": null,
            "_view_module": "@jupyter-widgets/base",
            "overflow": null,
            "_model_module_version": "1.2.0",
            "_view_count": null,
            "flex_flow": null,
            "width": null,
            "min_width": null,
            "border": null,
            "align_items": null,
            "bottom": null,
            "_model_module": "@jupyter-widgets/base",
            "top": null,
            "grid_column": null,
            "overflow_y": null,
            "overflow_x": null,
            "grid_auto_flow": null,
            "grid_area": null,
            "grid_template_columns": null,
            "flex": null,
            "_model_name": "LayoutModel",
            "justify_items": null,
            "grid_row": null,
            "max_height": null,
            "align_content": null,
            "visibility": null,
            "align_self": null,
            "height": null,
            "min_height": null,
            "padding": null,
            "grid_auto_rows": null,
            "grid_gap": null,
            "max_width": null,
            "order": null,
            "_view_module_version": "1.2.0",
            "grid_template_areas": null,
            "object_position": null,
            "object_fit": null,
            "grid_auto_columns": null,
            "margin": null,
            "display": null,
            "left": null
          }
        },
        "6bd8dbd5763f40a7a78bf0812697d0a2": {
          "model_module": "@jupyter-widgets/controls",
          "model_name": "DescriptionStyleModel",
          "state": {
            "_view_name": "StyleView",
            "_model_name": "DescriptionStyleModel",
            "description_width": "",
            "_view_module": "@jupyter-widgets/base",
            "_model_module_version": "1.5.0",
            "_view_count": null,
            "_view_module_version": "1.2.0",
            "_model_module": "@jupyter-widgets/controls"
          }
        },
        "197afaee90374f6a96330957eeaaa94b": {
          "model_module": "@jupyter-widgets/base",
          "model_name": "LayoutModel",
          "state": {
            "_view_name": "LayoutView",
            "grid_template_rows": null,
            "right": null,
            "justify_content": null,
            "_view_module": "@jupyter-widgets/base",
            "overflow": null,
            "_model_module_version": "1.2.0",
            "_view_count": null,
            "flex_flow": null,
            "width": null,
            "min_width": null,
            "border": null,
            "align_items": null,
            "bottom": null,
            "_model_module": "@jupyter-widgets/base",
            "top": null,
            "grid_column": null,
            "overflow_y": null,
            "overflow_x": null,
            "grid_auto_flow": null,
            "grid_area": null,
            "grid_template_columns": null,
            "flex": null,
            "_model_name": "LayoutModel",
            "justify_items": null,
            "grid_row": null,
            "max_height": null,
            "align_content": null,
            "visibility": null,
            "align_self": null,
            "height": null,
            "min_height": null,
            "padding": null,
            "grid_auto_rows": null,
            "grid_gap": null,
            "max_width": null,
            "order": null,
            "_view_module_version": "1.2.0",
            "grid_template_areas": null,
            "object_position": null,
            "object_fit": null,
            "grid_auto_columns": null,
            "margin": null,
            "display": null,
            "left": null
          }
        },
        "1f221c9d1441472a9b7f28be416353ed": {
          "model_module": "@jupyter-widgets/controls",
          "model_name": "HBoxModel",
          "state": {
            "_view_name": "HBoxView",
            "_dom_classes": [],
            "_model_name": "HBoxModel",
            "_view_module": "@jupyter-widgets/controls",
            "_model_module_version": "1.5.0",
            "_view_count": null,
            "_view_module_version": "1.5.0",
            "box_style": "",
            "layout": "IPY_MODEL_1ef807f9548548819076d8fba4dad473",
            "_model_module": "@jupyter-widgets/controls",
            "children": [
              "IPY_MODEL_82a27a4c89da4e3b954fed52300fecf2",
              "IPY_MODEL_942586c92ebd482cb639f785cda2ffb2"
            ]
          }
        },
        "1ef807f9548548819076d8fba4dad473": {
          "model_module": "@jupyter-widgets/base",
          "model_name": "LayoutModel",
          "state": {
            "_view_name": "LayoutView",
            "grid_template_rows": null,
            "right": null,
            "justify_content": null,
            "_view_module": "@jupyter-widgets/base",
            "overflow": null,
            "_model_module_version": "1.2.0",
            "_view_count": null,
            "flex_flow": null,
            "width": null,
            "min_width": null,
            "border": null,
            "align_items": null,
            "bottom": null,
            "_model_module": "@jupyter-widgets/base",
            "top": null,
            "grid_column": null,
            "overflow_y": null,
            "overflow_x": null,
            "grid_auto_flow": null,
            "grid_area": null,
            "grid_template_columns": null,
            "flex": null,
            "_model_name": "LayoutModel",
            "justify_items": null,
            "grid_row": null,
            "max_height": null,
            "align_content": null,
            "visibility": null,
            "align_self": null,
            "height": null,
            "min_height": null,
            "padding": null,
            "grid_auto_rows": null,
            "grid_gap": null,
            "max_width": null,
            "order": null,
            "_view_module_version": "1.2.0",
            "grid_template_areas": null,
            "object_position": null,
            "object_fit": null,
            "grid_auto_columns": null,
            "margin": null,
            "display": null,
            "left": null
          }
        },
        "82a27a4c89da4e3b954fed52300fecf2": {
          "model_module": "@jupyter-widgets/controls",
          "model_name": "FloatProgressModel",
          "state": {
            "_view_name": "ProgressView",
            "style": "IPY_MODEL_163cc8a135d845879da2ece123ed61e2",
            "_dom_classes": [],
            "description": "100%",
            "_model_name": "FloatProgressModel",
            "bar_style": "success",
            "max": 2000,
            "_view_module": "@jupyter-widgets/controls",
            "_model_module_version": "1.5.0",
            "value": 2000,
            "_view_count": null,
            "_view_module_version": "1.5.0",
            "orientation": "horizontal",
            "min": 0,
            "description_tooltip": null,
            "_model_module": "@jupyter-widgets/controls",
            "layout": "IPY_MODEL_83df6fb444a94246a229660bd49f4f99"
          }
        },
        "942586c92ebd482cb639f785cda2ffb2": {
          "model_module": "@jupyter-widgets/controls",
          "model_name": "HTMLModel",
          "state": {
            "_view_name": "HTMLView",
            "style": "IPY_MODEL_591916f705b74a7f86df43651988f602",
            "_dom_classes": [],
            "description": "",
            "_model_name": "HTMLModel",
            "placeholder": "​",
            "_view_module": "@jupyter-widgets/controls",
            "_model_module_version": "1.5.0",
            "value": " 2000/2000 [02:13&lt;00:00, 14.94it/s]",
            "_view_count": null,
            "_view_module_version": "1.5.0",
            "description_tooltip": null,
            "_model_module": "@jupyter-widgets/controls",
            "layout": "IPY_MODEL_ebfeed08671642389abfcde4922ec9aa"
          }
        },
        "163cc8a135d845879da2ece123ed61e2": {
          "model_module": "@jupyter-widgets/controls",
          "model_name": "ProgressStyleModel",
          "state": {
            "_view_name": "StyleView",
            "_model_name": "ProgressStyleModel",
            "description_width": "initial",
            "_view_module": "@jupyter-widgets/base",
            "_model_module_version": "1.5.0",
            "_view_count": null,
            "_view_module_version": "1.2.0",
            "bar_color": null,
            "_model_module": "@jupyter-widgets/controls"
          }
        },
        "83df6fb444a94246a229660bd49f4f99": {
          "model_module": "@jupyter-widgets/base",
          "model_name": "LayoutModel",
          "state": {
            "_view_name": "LayoutView",
            "grid_template_rows": null,
            "right": null,
            "justify_content": null,
            "_view_module": "@jupyter-widgets/base",
            "overflow": null,
            "_model_module_version": "1.2.0",
            "_view_count": null,
            "flex_flow": null,
            "width": null,
            "min_width": null,
            "border": null,
            "align_items": null,
            "bottom": null,
            "_model_module": "@jupyter-widgets/base",
            "top": null,
            "grid_column": null,
            "overflow_y": null,
            "overflow_x": null,
            "grid_auto_flow": null,
            "grid_area": null,
            "grid_template_columns": null,
            "flex": null,
            "_model_name": "LayoutModel",
            "justify_items": null,
            "grid_row": null,
            "max_height": null,
            "align_content": null,
            "visibility": null,
            "align_self": null,
            "height": null,
            "min_height": null,
            "padding": null,
            "grid_auto_rows": null,
            "grid_gap": null,
            "max_width": null,
            "order": null,
            "_view_module_version": "1.2.0",
            "grid_template_areas": null,
            "object_position": null,
            "object_fit": null,
            "grid_auto_columns": null,
            "margin": null,
            "display": null,
            "left": null
          }
        },
        "591916f705b74a7f86df43651988f602": {
          "model_module": "@jupyter-widgets/controls",
          "model_name": "DescriptionStyleModel",
          "state": {
            "_view_name": "StyleView",
            "_model_name": "DescriptionStyleModel",
            "description_width": "",
            "_view_module": "@jupyter-widgets/base",
            "_model_module_version": "1.5.0",
            "_view_count": null,
            "_view_module_version": "1.2.0",
            "_model_module": "@jupyter-widgets/controls"
          }
        },
        "ebfeed08671642389abfcde4922ec9aa": {
          "model_module": "@jupyter-widgets/base",
          "model_name": "LayoutModel",
          "state": {
            "_view_name": "LayoutView",
            "grid_template_rows": null,
            "right": null,
            "justify_content": null,
            "_view_module": "@jupyter-widgets/base",
            "overflow": null,
            "_model_module_version": "1.2.0",
            "_view_count": null,
            "flex_flow": null,
            "width": null,
            "min_width": null,
            "border": null,
            "align_items": null,
            "bottom": null,
            "_model_module": "@jupyter-widgets/base",
            "top": null,
            "grid_column": null,
            "overflow_y": null,
            "overflow_x": null,
            "grid_auto_flow": null,
            "grid_area": null,
            "grid_template_columns": null,
            "flex": null,
            "_model_name": "LayoutModel",
            "justify_items": null,
            "grid_row": null,
            "max_height": null,
            "align_content": null,
            "visibility": null,
            "align_self": null,
            "height": null,
            "min_height": null,
            "padding": null,
            "grid_auto_rows": null,
            "grid_gap": null,
            "max_width": null,
            "order": null,
            "_view_module_version": "1.2.0",
            "grid_template_areas": null,
            "object_position": null,
            "object_fit": null,
            "grid_auto_columns": null,
            "margin": null,
            "display": null,
            "left": null
          }
        },
        "94288807d97d4266a3d134416ffac1f7": {
          "model_module": "@jupyter-widgets/controls",
          "model_name": "HBoxModel",
          "state": {
            "_view_name": "HBoxView",
            "_dom_classes": [],
            "_model_name": "HBoxModel",
            "_view_module": "@jupyter-widgets/controls",
            "_model_module_version": "1.5.0",
            "_view_count": null,
            "_view_module_version": "1.5.0",
            "box_style": "",
            "layout": "IPY_MODEL_a11b866d591440dbab7b9a749915389f",
            "_model_module": "@jupyter-widgets/controls",
            "children": [
              "IPY_MODEL_26a763131d654c0f9345860ab2281173",
              "IPY_MODEL_d616469da9df4dad9ffb031fab0ddb81"
            ]
          }
        },
        "a11b866d591440dbab7b9a749915389f": {
          "model_module": "@jupyter-widgets/base",
          "model_name": "LayoutModel",
          "state": {
            "_view_name": "LayoutView",
            "grid_template_rows": null,
            "right": null,
            "justify_content": null,
            "_view_module": "@jupyter-widgets/base",
            "overflow": null,
            "_model_module_version": "1.2.0",
            "_view_count": null,
            "flex_flow": null,
            "width": null,
            "min_width": null,
            "border": null,
            "align_items": null,
            "bottom": null,
            "_model_module": "@jupyter-widgets/base",
            "top": null,
            "grid_column": null,
            "overflow_y": null,
            "overflow_x": null,
            "grid_auto_flow": null,
            "grid_area": null,
            "grid_template_columns": null,
            "flex": null,
            "_model_name": "LayoutModel",
            "justify_items": null,
            "grid_row": null,
            "max_height": null,
            "align_content": null,
            "visibility": null,
            "align_self": null,
            "height": null,
            "min_height": null,
            "padding": null,
            "grid_auto_rows": null,
            "grid_gap": null,
            "max_width": null,
            "order": null,
            "_view_module_version": "1.2.0",
            "grid_template_areas": null,
            "object_position": null,
            "object_fit": null,
            "grid_auto_columns": null,
            "margin": null,
            "display": null,
            "left": null
          }
        },
        "26a763131d654c0f9345860ab2281173": {
          "model_module": "@jupyter-widgets/controls",
          "model_name": "FloatProgressModel",
          "state": {
            "_view_name": "ProgressView",
            "style": "IPY_MODEL_ab2e86fda64d4ab2b70e3f1767bc99de",
            "_dom_classes": [],
            "description": "100%",
            "_model_name": "FloatProgressModel",
            "bar_style": "success",
            "max": 2000,
            "_view_module": "@jupyter-widgets/controls",
            "_model_module_version": "1.5.0",
            "value": 2000,
            "_view_count": null,
            "_view_module_version": "1.5.0",
            "orientation": "horizontal",
            "min": 0,
            "description_tooltip": null,
            "_model_module": "@jupyter-widgets/controls",
            "layout": "IPY_MODEL_9719b4d5e38a46d982309034cc1c5291"
          }
        },
        "d616469da9df4dad9ffb031fab0ddb81": {
          "model_module": "@jupyter-widgets/controls",
          "model_name": "HTMLModel",
          "state": {
            "_view_name": "HTMLView",
            "style": "IPY_MODEL_1191d0f018964227b47ec4ed9d5f6e40",
            "_dom_classes": [],
            "description": "",
            "_model_name": "HTMLModel",
            "placeholder": "​",
            "_view_module": "@jupyter-widgets/controls",
            "_model_module_version": "1.5.0",
            "value": " 2000/2000 [00:15&lt;00:00, 130.14it/s]",
            "_view_count": null,
            "_view_module_version": "1.5.0",
            "description_tooltip": null,
            "_model_module": "@jupyter-widgets/controls",
            "layout": "IPY_MODEL_8a4bd478a6cd49d19992ba41de37ab4d"
          }
        },
        "ab2e86fda64d4ab2b70e3f1767bc99de": {
          "model_module": "@jupyter-widgets/controls",
          "model_name": "ProgressStyleModel",
          "state": {
            "_view_name": "StyleView",
            "_model_name": "ProgressStyleModel",
            "description_width": "initial",
            "_view_module": "@jupyter-widgets/base",
            "_model_module_version": "1.5.0",
            "_view_count": null,
            "_view_module_version": "1.2.0",
            "bar_color": null,
            "_model_module": "@jupyter-widgets/controls"
          }
        },
        "9719b4d5e38a46d982309034cc1c5291": {
          "model_module": "@jupyter-widgets/base",
          "model_name": "LayoutModel",
          "state": {
            "_view_name": "LayoutView",
            "grid_template_rows": null,
            "right": null,
            "justify_content": null,
            "_view_module": "@jupyter-widgets/base",
            "overflow": null,
            "_model_module_version": "1.2.0",
            "_view_count": null,
            "flex_flow": null,
            "width": null,
            "min_width": null,
            "border": null,
            "align_items": null,
            "bottom": null,
            "_model_module": "@jupyter-widgets/base",
            "top": null,
            "grid_column": null,
            "overflow_y": null,
            "overflow_x": null,
            "grid_auto_flow": null,
            "grid_area": null,
            "grid_template_columns": null,
            "flex": null,
            "_model_name": "LayoutModel",
            "justify_items": null,
            "grid_row": null,
            "max_height": null,
            "align_content": null,
            "visibility": null,
            "align_self": null,
            "height": null,
            "min_height": null,
            "padding": null,
            "grid_auto_rows": null,
            "grid_gap": null,
            "max_width": null,
            "order": null,
            "_view_module_version": "1.2.0",
            "grid_template_areas": null,
            "object_position": null,
            "object_fit": null,
            "grid_auto_columns": null,
            "margin": null,
            "display": null,
            "left": null
          }
        },
        "1191d0f018964227b47ec4ed9d5f6e40": {
          "model_module": "@jupyter-widgets/controls",
          "model_name": "DescriptionStyleModel",
          "state": {
            "_view_name": "StyleView",
            "_model_name": "DescriptionStyleModel",
            "description_width": "",
            "_view_module": "@jupyter-widgets/base",
            "_model_module_version": "1.5.0",
            "_view_count": null,
            "_view_module_version": "1.2.0",
            "_model_module": "@jupyter-widgets/controls"
          }
        },
        "8a4bd478a6cd49d19992ba41de37ab4d": {
          "model_module": "@jupyter-widgets/base",
          "model_name": "LayoutModel",
          "state": {
            "_view_name": "LayoutView",
            "grid_template_rows": null,
            "right": null,
            "justify_content": null,
            "_view_module": "@jupyter-widgets/base",
            "overflow": null,
            "_model_module_version": "1.2.0",
            "_view_count": null,
            "flex_flow": null,
            "width": null,
            "min_width": null,
            "border": null,
            "align_items": null,
            "bottom": null,
            "_model_module": "@jupyter-widgets/base",
            "top": null,
            "grid_column": null,
            "overflow_y": null,
            "overflow_x": null,
            "grid_auto_flow": null,
            "grid_area": null,
            "grid_template_columns": null,
            "flex": null,
            "_model_name": "LayoutModel",
            "justify_items": null,
            "grid_row": null,
            "max_height": null,
            "align_content": null,
            "visibility": null,
            "align_self": null,
            "height": null,
            "min_height": null,
            "padding": null,
            "grid_auto_rows": null,
            "grid_gap": null,
            "max_width": null,
            "order": null,
            "_view_module_version": "1.2.0",
            "grid_template_areas": null,
            "object_position": null,
            "object_fit": null,
            "grid_auto_columns": null,
            "margin": null,
            "display": null,
            "left": null
          }
        }
      }
    }
  },
  "cells": [
    {
      "cell_type": "markdown",
      "metadata": {
        "id": "view-in-github",
        "colab_type": "text"
      },
      "source": [
        "<a href=\"https://colab.research.google.com/github/juanmadlg/K-armed-Bandit-Problem/blob/main/K_Armed_Testbed_with_Upper_Confidence_Bound_(UCB)_Action_Selection.ipynb\" target=\"_parent\"><img src=\"https://colab.research.google.com/assets/colab-badge.svg\" alt=\"Open In Colab\"/></a>"
      ]
    },
    {
      "cell_type": "markdown",
      "metadata": {
        "id": "1zKNMbi-090o"
      },
      "source": [
        "## k-armed Testbed with Upper-Confidence Bound (UCB) Action Selection\n",
        "\n",
        "This is a new version of the K-Armed Testbed. These are the previous versions:\n",
        "* [K-armed Testbed](https://gist.github.com/juanmadlg/bc25bc44af651d2dde48b708c2af87d9)\n",
        "* [K-armed Testbed with Optimistic Initial Values](https://gist.github.com/juanmadlg/1aedc22ca5fead9deae902509fe417bd)\n",
        "\n",
        "This is an update of the previous version that allows the evaluation of the Upper-Confidence Bound (UCB) Action Selection. \n",
        "\n",
        "UCB Action Selection is based on selecting the action based on the confidence that you have in the Q(a) value. This is based on the number of times that the action has been selected during the previous timesteps. More times selected, more confidence on Q(a) value.\n",
        "\n",
        "This is the formula to select the action:\n",
        "\n",
        "![ucb.png](data:image/png;base64,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)\n",
        "\n",
        "\n",
        "At = argmax[exploitation + exploration]\n",
        "\n",
        "**Note:** This Notebook has been created in Google Colab."
      ]
    },
    {
      "cell_type": "markdown",
      "metadata": {
        "id": "-07f-FTLMSuU"
      },
      "source": [
        "## Packages\n",
        "\n",
        "We will use the following packages:\n",
        "\n",
        "- [numpy](www.numpy.org) : Fundamental package for scientific computing with Python.\n",
        "- [jdc](https://alexhagen.github.io/jdc/) : Jupyter magic that allows defining classes over multiple jupyter notebook cells.\n",
        "- [tqdm](https://tqdm.github.io/) : A package to display progress bar when running experiments.\n",
        "- [matplotlib](http://matplotlib.org) : Library for plotting graphs in Python."
      ]
    },
    {
      "cell_type": "code",
      "metadata": {
        "colab": {
          "base_uri": "https://localhost:8080/"
        },
        "id": "ggqA4beMMJBW",
        "outputId": "e1bcb6fa-2e10-4a00-e1fd-bdfa282f14da"
      },
      "source": [
        "!pip install jdc"
      ],
      "execution_count": null,
      "outputs": [
        {
          "output_type": "stream",
          "text": [
            "Collecting jdc\n",
            "  Downloading https://files.pythonhosted.org/packages/5a/cb/9afea749985eef20f3160e8826a531c7502e40c35a038dfe49b67726e9a0/jdc-0.0.9-py2.py3-none-any.whl\n",
            "Installing collected packages: jdc\n",
            "Successfully installed jdc-0.0.9\n"
          ],
          "name": "stdout"
        }
      ]
    },
    {
      "cell_type": "code",
      "metadata": {
        "id": "D1upcUZrHu3d"
      },
      "source": [
        "# Imports\n",
        "import sys\n",
        "from math import sqrt, log\n",
        "import numpy as np\n",
        "import jdc\n",
        "from tqdm.notebook import tqdm\n",
        "import matplotlib.pyplot as plt"
      ],
      "execution_count": null,
      "outputs": []
    },
    {
      "cell_type": "markdown",
      "metadata": {
        "id": "HDTHZhBwM7Jk"
      },
      "source": [
        "## K-Arms Class\n",
        "\n",
        "These are the elements included in the K-Arms Class\n",
        "* **k**: The number of Arms\n",
        "* **Q**: It stores the Function Values for each Arm. Vector of size (k, )\n",
        "* **q_ini**: Initial value. Used for Optimistic inizialization. 0.0 in this experiment.\n",
        "* **A**: It stores the number of 'executions' of the specific Arm. Vector of size (k, ). Initializated each time 'reset' is executed.\n",
        "* **arms_mean**: Mean for the distribution of the Q* for each Arm\n",
        "* **standard_deviation**: It is used in two cases: \n",
        "  * To generate the random distribution of the Q* for each Arm \n",
        "  * To generate the random value of an Arm when it is executed (using the on the Q* of the arm as a mean).\n",
        "* **action_selection**: class that implements the action selection algorithmn"
      ]
    },
    {
      "cell_type": "code",
      "metadata": {
        "id": "vqdl_ceJ3Goa"
      },
      "source": [
        "class k_armed:\n",
        "  def __init__(self, configuration, action_selection):\n",
        "    '''\n",
        "    Configuration is a dictionary that includes all diferente required settings\n",
        "    '''\n",
        "    self.Q = None\n",
        "    self.N = None\n",
        "    self.A = None\n",
        "    self.k = configuration['k'] # Number of Arms\n",
        "    self.q_ini = configuration['q_ini'] # Optimistic Inicial Value\n",
        "    self.n_ini = configuration['n_ini'] \n",
        "\n",
        "    self.action_selection = action_selection;\n",
        "\n",
        "    self.arms_mean = configuration['arms_mean']\n",
        "    self.standard_deviation = configuration['std_dev'] # For Arms Distribution and Arms values\n",
        "\n",
        "  def reset(self):\n",
        "    '''\n",
        "    Reset is executed at the begining of each episode. It sets to 0 Q and N\n",
        "    and creates a new distribution of Q* for the k arms.\n",
        "    '''\n",
        "    self.Q = np.full((self.k, ), self.q_ini) # Initialize optimistic values\n",
        "    self.N = np.full((self.k, ), self.n_ini)\n",
        "    self.A = np.random.normal(loc=self.arms_mean, scale=self.standard_deviation, size=(self.k,))"
      ],
      "execution_count": null,
      "outputs": []
    },
    {
      "cell_type": "markdown",
      "metadata": {
        "id": "j_XXJOR3Phy2"
      },
      "source": [
        "### Action Selection Algorithm\n",
        "\n",
        "I have updated the k_armed class to have a way set different get_action methods to compare the algorithms\n",
        "\n"
      ]
    },
    {
      "cell_type": "code",
      "metadata": {
        "id": "vlnTo6HqyNU5"
      },
      "source": [
        "%%add_to k_armed\n",
        "\n",
        "def get_action(self):\n",
        "  '''\n",
        "  Action selection: exploration vs. exploitation\n",
        "  '''\n",
        "  return self.action_selection.get_action(self.Q, self.N)"
      ],
      "execution_count": null,
      "outputs": []
    },
    {
      "cell_type": "markdown",
      "metadata": {
        "id": "whnPOgRKxf_x"
      },
      "source": [
        "#### Epsilon-Greedy Action Selection\n",
        "\n",
        "Lets keep epsilon-greedy to compare the different algorithms."
      ]
    },
    {
      "cell_type": "code",
      "metadata": {
        "id": "xnaw5WB0PzpD"
      },
      "source": [
        "class EpsiloGreedyActionSelection:\n",
        "\n",
        "  def __init__(self, configuration):\n",
        "     self.epsilon = configuration['epsilon']\n",
        "     self.k = configuration['k'] \n",
        "\n",
        "  def get_action(self, Q, N):\n",
        "    '''\n",
        "    €-greedy action selection: exploration vs. exploitation\n",
        "    '''\n",
        "    if np.random.random_sample() <= self.epsilon:\n",
        "      return np.random.randint(self.k) # Exploration\n",
        "\n",
        "    return np.argmax(Q) # Exploitation"
      ],
      "execution_count": null,
      "outputs": []
    },
    {
      "cell_type": "markdown",
      "metadata": {
        "id": "1tsiUf6a0Bn6"
      },
      "source": [
        "#### Upper-Confidence Bound (UCB) Action Selection\n"
      ]
    },
    {
      "cell_type": "markdown",
      "metadata": {
        "id": "QFv8c7pnPD6a"
      },
      "source": [
        "![ucb.png](data:image/png;base64,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)"
      ]
    },
    {
      "cell_type": "code",
      "metadata": {
        "id": "9pfynbveKQnZ"
      },
      "source": [
        "class UCBActionSelection:\n",
        "  def __init__(self, configuration):\n",
        "    self.c = configuration['c']\n",
        "    self.k = configuration['k']\n",
        "\n",
        "  def get_action(self, Q, N):\n",
        "    '''\n",
        "    UCB Action Selection\n",
        "    '''\n",
        "    return np.argmax([Q[a] + self.c * sqrt(log(np.sum(N)) / N[a]) if N[a] else sys.float_info.max for a in range(self.k)])"
      ],
      "execution_count": null,
      "outputs": []
    },
    {
      "cell_type": "markdown",
      "metadata": {
        "id": "DDLl5QrnT4uZ"
      },
      "source": [
        "### Bandit\n",
        "\n",
        "Returns a random value in a normal distribution with Q*(arm) and the standard_deviation"
      ]
    },
    {
      "cell_type": "code",
      "metadata": {
        "id": "iPLPCs1MMbzY"
      },
      "source": [
        "%%add_to k_armed\n",
        "\n",
        "def bandit(self, a):\n",
        "  '''\n",
        "  Gets value of the selected arm based on a normal distribution with Q*(a) as the mean\n",
        "  '''\n",
        "  return np.random.normal(self.A[a], self.standard_deviation)"
      ],
      "execution_count": null,
      "outputs": []
    },
    {
      "cell_type": "markdown",
      "metadata": {
        "id": "pSNRkyPbV9tL"
      },
      "source": [
        "### k-armed Execution\n",
        "\n",
        "For each step:\n",
        "* Get the Action (Arm) (UCB or €-greedy action selection)\n",
        "* Get the Value (Reward) for that Arm\n",
        "* Increment the number of Steps\n",
        "* Calculate the Value Function for the Arm: Qn+1 = Qn + (Rn - Qn) / n  "
      ]
    },
    {
      "cell_type": "code",
      "metadata": {
        "id": "3BWMJgzfUH90"
      },
      "source": [
        "%%add_to k_armed\n",
        "\n",
        "def exec(self, steps):\n",
        "  self.reset()\n",
        "\n",
        "  rewards = []\n",
        "  for i in range(steps):\n",
        "\n",
        "    A = self.get_action()\n",
        "    R = self.bandit(A)\n",
        "\n",
        "    self.N[A] += 1\n",
        "    self.Q[A] = self.Q[A] + (R - self.Q[A]) / self.N[A] # Update Value Function Q(a)\n",
        "\n",
        "    rewards.append(R)\n",
        "\n",
        "  return rewards"
      ],
      "execution_count": null,
      "outputs": []
    },
    {
      "cell_type": "markdown",
      "metadata": {
        "id": "GkJf0SlRYAEp"
      },
      "source": [
        "## Evaluate the Rewards"
      ]
    },
    {
      "cell_type": "markdown",
      "metadata": {
        "id": "Ob3nnycG5sNs"
      },
      "source": [
        "### Evaluate different c values in UCB version\n",
        "\n",
        "We cannot evaluate the diference only with an execution for each c value. The curve is too noisy.\n",
        "\n",
        "To evaluate the different values of c we are going to execute N different runs an calculate the average for each step."
      ]
    },
    {
      "cell_type": "code",
      "metadata": {
        "id": "Cv0sdGdg9TKE"
      },
      "source": [
        "def evaluate(configuration, test_values, steps, runs):\n",
        "  rewards = []\n",
        "\n",
        "  # For these three c values\n",
        "  for c in test_values:\n",
        "    print(f'Execution {runs} runs with c={c}')\n",
        "    action_selection = UCBActionSelection({'c': c, 'k': configuration['k']})\n",
        "\n",
        "    e_k_armed = k_armed(configuration, action_selection)\n",
        "    ucb_rewards = np.zeros((steps, ))\n",
        "\n",
        "    # Lets execute son independent runs\n",
        "    for _ in tqdm(range(runs)):\n",
        "      ucb_rewards = np.add(ucb_rewards, e_k_armed.exec(steps))\n",
        "\n",
        "    # Average for each step\n",
        "    rewards.append(ucb_rewards / runs)\n",
        "\n",
        "  return rewards"
      ],
      "execution_count": null,
      "outputs": []
    },
    {
      "cell_type": "code",
      "metadata": {
        "colab": {
          "base_uri": "https://localhost:8080/",
          "height": 232,
          "referenced_widgets": [
            "32b4b4fa6c014ae28ff1d72a7e47031e",
            "0f0364fc4c8c4eb3adf9a3ba56084524",
            "06124ce19437407fa6e14f723e1252af",
            "8eb7a19b2e40498cbdf8db6f2e12d682",
            "a099088795bc4aa4b805206942e3f45c",
            "7a73bfc62b544fd6be69b7cdfcc9f109",
            "098a9c3ecdcb4521884d309f8ec63143",
            "386a4a7f3a1e415eaf9b21ec1a2d696e",
            "c8ec0e972da046deb410c8e86a4734ec",
            "511a174bba1242b096bb52c136ea9f0c",
            "eebe1df29cba42c0a53eb0ed2916e78d",
            "7834d6d7e80a47e79a06e4abedd19347",
            "bf4125b76eb74f19b14168291631a8f7",
            "a1a161a551984ac19de0400d9cda8202",
            "6bd8dbd5763f40a7a78bf0812697d0a2",
            "197afaee90374f6a96330957eeaaa94b",
            "1f221c9d1441472a9b7f28be416353ed",
            "1ef807f9548548819076d8fba4dad473",
            "82a27a4c89da4e3b954fed52300fecf2",
            "942586c92ebd482cb639f785cda2ffb2",
            "163cc8a135d845879da2ece123ed61e2",
            "83df6fb444a94246a229660bd49f4f99",
            "591916f705b74a7f86df43651988f602",
            "ebfeed08671642389abfcde4922ec9aa"
          ]
        },
        "id": "w34aroBLCXNZ",
        "outputId": "f4d33c3d-4cb9-4192-aa3d-a963b1f10f87"
      },
      "source": [
        "configuration = {\n",
        "    'k': 10,\n",
        "    'c': None,\n",
        "    'q_ini': 0.0, # Without optimal initialization values\n",
        "    'n_ini': 0.0,\n",
        "    'arms_mean': 1,\n",
        "    'std_dev': 1\n",
        "}\n",
        "\n",
        "steps = 600\n",
        "runs = 2000\n",
        "\n",
        "rewards = evaluate(configuration, [1, 2, 5], steps, runs)"
      ],
      "execution_count": null,
      "outputs": [
        {
          "output_type": "stream",
          "text": [
            "Execution 2000 runs with c=1\n"
          ],
          "name": "stdout"
        },
        {
          "output_type": "display_data",
          "data": {
            "application/vnd.jupyter.widget-view+json": {
              "model_id": "32b4b4fa6c014ae28ff1d72a7e47031e",
              "version_minor": 0,
              "version_major": 2
            },
            "text/plain": [
              "HBox(children=(FloatProgress(value=0.0, max=2000.0), HTML(value='')))"
            ]
          },
          "metadata": {
            "tags": []
          }
        },
        {
          "output_type": "stream",
          "text": [
            "\n",
            "\n",
            "Execution 2000 runs with c=2\n"
          ],
          "name": "stdout"
        },
        {
          "output_type": "display_data",
          "data": {
            "application/vnd.jupyter.widget-view+json": {
              "model_id": "c8ec0e972da046deb410c8e86a4734ec",
              "version_minor": 0,
              "version_major": 2
            },
            "text/plain": [
              "HBox(children=(FloatProgress(value=0.0, max=2000.0), HTML(value='')))"
            ]
          },
          "metadata": {
            "tags": []
          }
        },
        {
          "output_type": "stream",
          "text": [
            "\n",
            "Execution 2000 runs with c=5\n"
          ],
          "name": "stdout"
        },
        {
          "output_type": "display_data",
          "data": {
            "application/vnd.jupyter.widget-view+json": {
              "model_id": "1f221c9d1441472a9b7f28be416353ed",
              "version_minor": 0,
              "version_major": 2
            },
            "text/plain": [
              "HBox(children=(FloatProgress(value=0.0, max=2000.0), HTML(value='')))"
            ]
          },
          "metadata": {
            "tags": []
          }
        },
        {
          "output_type": "stream",
          "text": [
            "\n"
          ],
          "name": "stdout"
        }
      ]
    },
    {
      "cell_type": "code",
      "metadata": {
        "colab": {
          "base_uri": "https://localhost:8080/",
          "height": 497
        },
        "id": "I-U-3gdWghsN",
        "outputId": "c4636c7c-2c55-417f-851a-3b16897c049c"
      },
      "source": [
        "plt.figure(figsize=(12,8))\n",
        "plt.plot(range(steps), rewards[0], label='c=1')\n",
        "plt.plot(range(steps), rewards[1], label='c=2')\n",
        "plt.plot(range(steps), rewards[2], label='c=5')\n",
        "plt.xlabel(\"Steps\")\n",
        "plt.ylabel(\"Reward\")\n",
        "plt.legend()\n",
        "plt.show()"
      ],
      "execution_count": null,
      "outputs": [
        {
          "output_type": "display_data",
          "data": {
            "image/png": "[encoded data removed]",
            "text/plain": [
              "<Figure size 864x576 with 1 Axes>"
            ]
          },
          "metadata": {
            "tags": [],
            "needs_background": "light"
          }
        }
      ]
    },
    {
      "cell_type": "markdown",
      "metadata": {
        "id": "SMEFqqjrp2PD"
      },
      "source": [
        "**Conclusions**\n",
        "\n",
        "We can see the different performances for the different values of c. For this specific scenario the best performance is provided with c = 1. Greater values of c does the algorithm to explore more or finally choose an action that is not so good."
      ]
    },
    {
      "cell_type": "markdown",
      "metadata": {
        "id": "zXGkE_ajeKHZ"
      },
      "source": [
        "### Execute epsilon-greeedy to compare\n",
        "\n",
        "Let's execute the best version of the episilon-greed to compare it with UCB Action Selection"
      ]
    },
    {
      "cell_type": "code",
      "metadata": {
        "id": "fFoU3-1yec-P"
      },
      "source": [
        "def greedy_evaluate(configuration, epsilon, steps, runs):\n",
        "  print(f'Execution {runs} runs with epsilon={epsilon}')\n",
        "  action_selection = EpsiloGreedyActionSelection({'epsilon': epsilon, 'k': configuration['k']})\n",
        "\n",
        "  e_k_armed = k_armed(configuration, action_selection)\n",
        "  ucb_rewards = np.zeros((steps, ))\n",
        "\n",
        "  # Lets execute son independent runs\n",
        "  for _ in tqdm(range(runs)):\n",
        "    ucb_rewards = np.add(ucb_rewards, e_k_armed.exec(steps))\n",
        "\n",
        "  return ucb_rewards / runs"
      ],
      "execution_count": null,
      "outputs": []
    },
    {
      "cell_type": "code",
      "metadata": {
        "colab": {
          "base_uri": "https://localhost:8080/",
          "height": 83,
          "referenced_widgets": [
            "94288807d97d4266a3d134416ffac1f7",
            "a11b866d591440dbab7b9a749915389f",
            "26a763131d654c0f9345860ab2281173",
            "d616469da9df4dad9ffb031fab0ddb81",
            "ab2e86fda64d4ab2b70e3f1767bc99de",
            "9719b4d5e38a46d982309034cc1c5291",
            "1191d0f018964227b47ec4ed9d5f6e40",
            "8a4bd478a6cd49d19992ba41de37ab4d"
          ]
        },
        "id": "XvPj63bnfQFG",
        "outputId": "0bace18e-cafe-4695-f831-c722de30e889"
      },
      "source": [
        "configuration = {\n",
        "    'k': 10,\n",
        "    'e': None,\n",
        "    'q_ini': 0.0, # Without optimal initialization values\n",
        "    'n_ini': 0.0,\n",
        "    'arms_mean': 1,\n",
        "    'std_dev': 1\n",
        "}\n",
        "\n",
        "steps = 600\n",
        "runs = 2000\n",
        "\n",
        "e_rewards = greedy_evaluate(configuration, 0.1, steps, runs)"
      ],
      "execution_count": null,
      "outputs": [
        {
          "output_type": "stream",
          "text": [
            "Execution 2000 runs with epsilon=0.1\n"
          ],
          "name": "stdout"
        },
        {
          "output_type": "display_data",
          "data": {
            "application/vnd.jupyter.widget-view+json": {
              "model_id": "94288807d97d4266a3d134416ffac1f7",
              "version_minor": 0,
              "version_major": 2
            },
            "text/plain": [
              "HBox(children=(FloatProgress(value=0.0, max=2000.0), HTML(value='')))"
            ]
          },
          "metadata": {
            "tags": []
          }
        },
        {
          "output_type": "stream",
          "text": [
            "\n"
          ],
          "name": "stdout"
        }
      ]
    },
    {
      "cell_type": "code",
      "metadata": {
        "colab": {
          "base_uri": "https://localhost:8080/",
          "height": 497
        },
        "id": "t5AMG2Bdf3il",
        "outputId": "32ec2ee3-d773-4ff9-fe07-5dde8b8f683e"
      },
      "source": [
        "plt.figure(figsize=(12,8))\n",
        "plt.plot(range(steps), rewards[0], label='UCB c=1')\n",
        "plt.plot(range(steps), e_rewards, label='epsilon-greedy=0.1')\n",
        "plt.xlabel(\"Steps\")\n",
        "plt.ylabel(\"Reward\")\n",
        "plt.legend()\n",
        "plt.show()"
      ],
      "execution_count": null,
      "outputs": [
        {
          "output_type": "display_data",
          "data": {
            "image/png": "[encoded data removed]",
            "text/plain": [
              "<Figure size 864x576 with 1 Axes>"
            ]
          },
          "metadata": {
            "tags": [],
            "needs_background": "light"
          }
        }
      ]
    },
    {
      "cell_type": "markdown",
      "metadata": {
        "id": "Ow9DkQP4_wtQ"
      },
      "source": [
        "**Conclusions**\n",
        "\n",
        "We can see that UCB is better than the epsilon-greedy that provided the best performance in our previous tests (epsilon=0,1)\n",
        "\n",
        "Why is it better?\n",
        "The Epsilon-Greedy algorithm continues exploring during the full set of executions, but UCB Action Selection once discovers the best values quickly stops exploring to move to continuously exploit."
      ]
    }
  ]
}